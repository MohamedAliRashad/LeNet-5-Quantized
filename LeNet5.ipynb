{
  "nbformat": 4,
  "nbformat_minor": 0,
  "metadata": {
    "colab": {
      "name": "LeNet5.ipynb",
      "version": "0.3.2",
      "provenance": [],
      "collapsed_sections": [],
      "toc_visible": true
    },
    "kernelspec": {
      "name": "python3",
      "display_name": "Python 3"
    }
  },
  "cells": [
    {
      "cell_type": "markdown",
      "metadata": {
        "id": "QnCdlmZpQhtk",
        "colab_type": "text"
      },
      "source": [
        "# LeNet-5-Quantized\n",
        "\n",
        "In this notebook, i want to demonstrate how i built LeNet-5 in PyTorch and Quantize it for visualization.\n",
        "\n",
        "\n",
        "> Network details in this [Blog post ](https://engmrk.com/lenet-5-a-classic-cnn-architecture/) and architecture view can be found below.\n",
        "\n",
        "\n",
        "![alt text](https://miro.medium.com/max/2625/1*1TI1aGBZ4dybR6__DI9dzA.png)\n"
      ]
    },
    {
      "cell_type": "markdown",
      "metadata": {
        "id": "QqB-nwesTmVa",
        "colab_type": "text"
      },
      "source": [
        "# Requirments\n",
        "\n",
        "\n",
        "*   PyTorch (torch)\n",
        "*   torchvision\n",
        "*   numpy\n",
        "*   pillow (PIL)\n",
        "\n"
      ]
    },
    {
      "cell_type": "code",
      "metadata": {
        "id": "ZHBVTH3UQaIH",
        "colab_type": "code",
        "colab": {}
      },
      "source": [
        "import numpy as np\n",
        "import torch\n",
        "import torch.nn as nn\n",
        "import torch.nn.functional as F\n",
        "import torchvision.transforms as transforms\n",
        "from torch.utils.data import DataLoader\n",
        "from torch.utils.data.sampler import SubsetRandomSampler\n",
        "from torchvision import datasets\n",
        "from PIL import Image\n"
      ],
      "execution_count": 0,
      "outputs": []
    },
    {
      "cell_type": "markdown",
      "metadata": {
        "id": "doQEQDdYULbp",
        "colab_type": "text"
      },
      "source": [
        "# MNIST Dataset\n",
        "\n",
        "We will download the dataset with `torchvision` and add to it some transforms like padding so the size of the input images become 32x32.\n",
        "\n",
        "We then split the data to `train_data` and `test_data` randomly.\n",
        "\n",
        "We make another split in the training data for validation purposes using `SubsetRandomSampler`.\n",
        "\n"
      ]
    },
    {
      "cell_type": "code",
      "metadata": {
        "id": "OIFlfBRBQLs-",
        "colab_type": "code",
        "colab": {}
      },
      "source": [
        "# number of subprocesses to use for data loading\n",
        "num_workers = 0\n",
        "# how many samples per batch to load\n",
        "batch_size = 20\n",
        "#  validation sample\n",
        "valid_sample = 0.2\n",
        "\n",
        "transform = [transforms.Pad(2), transforms.ToTensor()]\n",
        "\n",
        "# choose the training and test datasets\n",
        "train_data = datasets.MNIST(root='data',\n",
        "                            train=True,\n",
        "                            download=True,\n",
        "                            transform=transforms.Compose(transform))\n",
        "test_data = datasets.MNIST(root='data',\n",
        "                           train=False,\n",
        "                           download=True,\n",
        "                           transform=transforms.Compose(transform))\n",
        "\n",
        "# Creating validation sampler\n",
        "num_train = len(train_data)\n",
        "indices = list(range(num_train))\n",
        "np.random.shuffle(indices)\n",
        "split = int(valid_sample * num_train)\n",
        "train_idx, valid_idx = indices[split:], indices[:split]\n",
        "\n",
        "# define sampler for batches\n",
        "trainSampler = SubsetRandomSampler(train_idx)\n",
        "validationSampler = SubsetRandomSampler(valid_idx)\n",
        "\n",
        "# prepare data loaders\n",
        "train_loader = DataLoader(train_data,\n",
        "                          batch_size=batch_size,\n",
        "                          sampler=trainSampler,\n",
        "                          num_workers=num_workers)\n",
        "validation_loader = DataLoader(train_data,\n",
        "                               batch_size=batch_size,\n",
        "                               sampler=validationSampler,\n",
        "                               num_workers=num_workers)\n",
        "test_loader = DataLoader(test_data,\n",
        "                         batch_size=batch_size,\n",
        "                         num_workers=num_workers)\n"
      ],
      "execution_count": 0,
      "outputs": []
    },
    {
      "cell_type": "markdown",
      "metadata": {
        "id": "nsWvjUVPhFiC",
        "colab_type": "text"
      },
      "source": [
        "# LeNet-5 Network\n",
        "\n",
        "We inherited form `nn.Module` to construct the LeNet-5 architecture in two steps\n",
        "\n",
        "\n",
        "1.   initialization of layers in `__init__`\n",
        "2.   connecting layers to build the pipeline of the network in `forward`\n",
        "\n"
      ]
    },
    {
      "cell_type": "code",
      "metadata": {
        "id": "McwMlya_grjs",
        "colab_type": "code",
        "colab": {
          "base_uri": "https://localhost:8080/",
          "height": 170
        },
        "outputId": "d393eec7-87d6-4958-d3de-08ce60d00420"
      },
      "source": [
        "class LeNet(nn.Module):\n",
        "    def __init__(self):\n",
        "        super(LeNet, self).__init__()\n",
        "        # 32 x 32 x 1\n",
        "        self.conv1 = nn.Conv2d(1, 6, (5, 5), padding=0, stride=1)\n",
        "        # 28 x 28 x 6\n",
        "        self.pool1 = nn.AvgPool2d((2, 2), stride=2)\n",
        "        # 14 x 14 x 6\n",
        "        self.conv2 = nn.Conv2d(6, 16, (5, 5), padding=0, stride=1)\n",
        "        # 10 x 10 x 16\n",
        "        self.pool2 = nn.AvgPool2d((2, 2), stride=2)\n",
        "        # 5 x 5 x 16\n",
        "        self.conv3 = nn.Conv2d(16, 120, (5, 5), padding=0, stride=1)\n",
        "        # 1 x 1 x 120\n",
        "        self.fc1 = nn.Linear(120, 84)\n",
        "        self.fc2 = nn.Linear(84, 10)\n",
        "\n",
        "    def forward(self, x):\n",
        "        x = torch.tanh(self.conv1(x))\n",
        "        x = self.pool1(x)\n",
        "        x = torch.tanh(self.conv2(x))\n",
        "        x = self.pool2(x)\n",
        "        x = torch.tanh(self.conv3(x))\n",
        "        # Choose either view or flatten (as you like)\n",
        "        x = x.view(x.size(0), -1)\n",
        "        # x = torch.flatten(x, start_dim=1)\n",
        "        x = torch.tanh(self.fc1(x))\n",
        "        x = torch.softmax(self.fc2(x), dim=-1)\n",
        "        return x\n",
        "\n",
        "model = LeNet()\n",
        "print(model)"
      ],
      "execution_count": 5,
      "outputs": [
        {
          "output_type": "stream",
          "text": [
            "LeNet(\n",
            "  (conv1): Conv2d(1, 6, kernel_size=(5, 5), stride=(1, 1))\n",
            "  (pool1): AvgPool2d(kernel_size=(2, 2), stride=2, padding=0)\n",
            "  (conv2): Conv2d(6, 16, kernel_size=(5, 5), stride=(1, 1))\n",
            "  (pool2): AvgPool2d(kernel_size=(2, 2), stride=2, padding=0)\n",
            "  (conv3): Conv2d(16, 120, kernel_size=(5, 5), stride=(1, 1))\n",
            "  (fc1): Linear(in_features=120, out_features=84, bias=True)\n",
            "  (fc2): Linear(in_features=84, out_features=10, bias=True)\n",
            ")\n"
          ],
          "name": "stdout"
        }
      ]
    },
    {
      "cell_type": "markdown",
      "metadata": {
        "id": "RrryNEroiEzb",
        "colab_type": "text"
      },
      "source": [
        "# Configurations\n",
        "\n",
        "Here, we configure the loss function to be `CrossEntropyLoss` and the optimizer to be Stochastic Gradient Descent (`SGD`)."
      ]
    },
    {
      "cell_type": "code",
      "metadata": {
        "id": "JpqlCK-7iD3B",
        "colab_type": "code",
        "colab": {}
      },
      "source": [
        "# specify loss function\n",
        "criterion = nn.CrossEntropyLoss()\n",
        "\n",
        "# specify optimizer\n",
        "optimizer = torch.optim.SGD(model.parameters(), lr=0.01)\n",
        "\n",
        "# Number of epochs\n",
        "n_epochs=40\n",
        "\n",
        "# classes of MNIST\n",
        "classes = list(range(10))"
      ],
      "execution_count": 0,
      "outputs": []
    },
    {
      "cell_type": "markdown",
      "metadata": {
        "id": "bXe1FAJliFd8",
        "colab_type": "text"
      },
      "source": [
        "# Training & Validation\n",
        "\n",
        "We first check if a GPU is available so i can transfer the learning to it then,  we put the model in training mode and after every epoch we put the model to `eval` mode so we check the validataion loss is getting better or not to save it in `model.pt`."
      ]
    },
    {
      "cell_type": "code",
      "metadata": {
        "id": "YRpO8GkahvH2",
        "colab_type": "code",
        "colab": {
          "base_uri": "https://localhost:8080/",
          "height": 1360
        },
        "outputId": "67cb7986-b799-4861-ffa7-c941b7af1d0b"
      },
      "source": [
        "\n",
        "\n",
        "device = torch.device(\"cuda:0\" if torch.cuda.is_available() else \"cpu\")\n",
        "\n",
        "model.to(device)\n",
        "\n",
        "valid_loss_min = np.Inf\n",
        "\n",
        "for epoch in range(n_epochs):\n",
        "\n",
        "    # monitor training loss\n",
        "    train_loss = 0.0\n",
        "    valid_loss = 0.0\n",
        "\n",
        "    ###################\n",
        "    # train the model #\n",
        "    ###################\n",
        "    model.train()  # prep model for training\n",
        "    for data, target in train_loader:\n",
        "        # clear the gradients of all optimized variables\n",
        "        optimizer.zero_grad()\n",
        "        # forward pass: compute predicted outputs by passing inputs to the model\n",
        "        output = model(data.to(device))\n",
        "        # calculate the loss\n",
        "        loss = criterion(output, target.to(device))\n",
        "        # backward pass: compute gradient of the loss with respect to model parameters\n",
        "        loss.backward()\n",
        "        # perform a single optimization step (parameter update)\n",
        "        optimizer.step()\n",
        "        # update running training loss\n",
        "        train_loss += loss.item() * data.size(0)\n",
        "\n",
        "    model.eval()\n",
        "    for data, target in validation_loader:\n",
        "        output = model(data.to(device))\n",
        "        loss = criterion(output, target.to(device))\n",
        "        valid_loss += loss.item() * data.size(0)\n",
        "\n",
        "    # print training statistics\n",
        "    # calculate average loss over an epoch\n",
        "    train_loss = train_loss / len(train_loader.sampler)\n",
        "    valid_loss = valid_loss / len(validation_loader.sampler)\n",
        "\n",
        "    print('Epoch: {} \\tTraining Loss: {:.6f} \\tValidation Loss: {:.6f}'.\n",
        "          format(epoch + 1, train_loss, valid_loss))\n",
        "    if valid_loss <= valid_loss_min:\n",
        "        print(\n",
        "            'Validation loss decreased ({:.6f} --> {:.6f}).  Saving model ...'\n",
        "            .format(valid_loss_min, valid_loss))\n",
        "        torch.save(model.state_dict(), 'model.pt')\n",
        "        valid_loss_min = valid_loss\n"
      ],
      "execution_count": 7,
      "outputs": [
        {
          "output_type": "stream",
          "text": [
            "Epoch: 1 \tTraining Loss: 2.300821 \tValidation Loss: 2.298549\n",
            "Validation loss decreased (inf --> 2.298549).  Saving model ...\n",
            "Epoch: 2 \tTraining Loss: 2.279972 \tValidation Loss: 2.193799\n",
            "Validation loss decreased (2.298549 --> 2.193799).  Saving model ...\n",
            "Epoch: 3 \tTraining Loss: 1.987013 \tValidation Loss: 1.822721\n",
            "Validation loss decreased (2.193799 --> 1.822721).  Saving model ...\n",
            "Epoch: 4 \tTraining Loss: 1.745599 \tValidation Loss: 1.692368\n",
            "Validation loss decreased (1.822721 --> 1.692368).  Saving model ...\n",
            "Epoch: 5 \tTraining Loss: 1.665031 \tValidation Loss: 1.626971\n",
            "Validation loss decreased (1.692368 --> 1.626971).  Saving model ...\n",
            "Epoch: 6 \tTraining Loss: 1.604691 \tValidation Loss: 1.588060\n",
            "Validation loss decreased (1.626971 --> 1.588060).  Saving model ...\n",
            "Epoch: 7 \tTraining Loss: 1.579435 \tValidation Loss: 1.569823\n",
            "Validation loss decreased (1.588060 --> 1.569823).  Saving model ...\n",
            "Epoch: 8 \tTraining Loss: 1.565008 \tValidation Loss: 1.558152\n",
            "Validation loss decreased (1.569823 --> 1.558152).  Saving model ...\n",
            "Epoch: 9 \tTraining Loss: 1.554564 \tValidation Loss: 1.550071\n",
            "Validation loss decreased (1.558152 --> 1.550071).  Saving model ...\n",
            "Epoch: 10 \tTraining Loss: 1.546164 \tValidation Loss: 1.539858\n",
            "Validation loss decreased (1.550071 --> 1.539858).  Saving model ...\n",
            "Epoch: 11 \tTraining Loss: 1.538828 \tValidation Loss: 1.533398\n",
            "Validation loss decreased (1.539858 --> 1.533398).  Saving model ...\n",
            "Epoch: 12 \tTraining Loss: 1.532506 \tValidation Loss: 1.527512\n",
            "Validation loss decreased (1.533398 --> 1.527512).  Saving model ...\n",
            "Epoch: 13 \tTraining Loss: 1.526829 \tValidation Loss: 1.523227\n",
            "Validation loss decreased (1.527512 --> 1.523227).  Saving model ...\n",
            "Epoch: 14 \tTraining Loss: 1.522018 \tValidation Loss: 1.517904\n",
            "Validation loss decreased (1.523227 --> 1.517904).  Saving model ...\n",
            "Epoch: 15 \tTraining Loss: 1.517603 \tValidation Loss: 1.514708\n",
            "Validation loss decreased (1.517904 --> 1.514708).  Saving model ...\n",
            "Epoch: 16 \tTraining Loss: 1.513573 \tValidation Loss: 1.510489\n",
            "Validation loss decreased (1.514708 --> 1.510489).  Saving model ...\n",
            "Epoch: 17 \tTraining Loss: 1.510104 \tValidation Loss: 1.507299\n",
            "Validation loss decreased (1.510489 --> 1.507299).  Saving model ...\n",
            "Epoch: 18 \tTraining Loss: 1.506749 \tValidation Loss: 1.504840\n",
            "Validation loss decreased (1.507299 --> 1.504840).  Saving model ...\n",
            "Epoch: 19 \tTraining Loss: 1.503845 \tValidation Loss: 1.502418\n",
            "Validation loss decreased (1.504840 --> 1.502418).  Saving model ...\n",
            "Epoch: 20 \tTraining Loss: 1.501295 \tValidation Loss: 1.499505\n",
            "Validation loss decreased (1.502418 --> 1.499505).  Saving model ...\n",
            "Epoch: 21 \tTraining Loss: 1.498957 \tValidation Loss: 1.497844\n",
            "Validation loss decreased (1.499505 --> 1.497844).  Saving model ...\n",
            "Epoch: 22 \tTraining Loss: 1.496894 \tValidation Loss: 1.496691\n",
            "Validation loss decreased (1.497844 --> 1.496691).  Saving model ...\n",
            "Epoch: 23 \tTraining Loss: 1.495146 \tValidation Loss: 1.495136\n",
            "Validation loss decreased (1.496691 --> 1.495136).  Saving model ...\n",
            "Epoch: 24 \tTraining Loss: 1.493542 \tValidation Loss: 1.494458\n",
            "Validation loss decreased (1.495136 --> 1.494458).  Saving model ...\n",
            "Epoch: 25 \tTraining Loss: 1.492070 \tValidation Loss: 1.492606\n",
            "Validation loss decreased (1.494458 --> 1.492606).  Saving model ...\n",
            "Epoch: 26 \tTraining Loss: 1.490772 \tValidation Loss: 1.491522\n",
            "Validation loss decreased (1.492606 --> 1.491522).  Saving model ...\n",
            "Epoch: 27 \tTraining Loss: 1.489666 \tValidation Loss: 1.490604\n",
            "Validation loss decreased (1.491522 --> 1.490604).  Saving model ...\n",
            "Epoch: 28 \tTraining Loss: 1.488536 \tValidation Loss: 1.490729\n",
            "Epoch: 29 \tTraining Loss: 1.487668 \tValidation Loss: 1.489263\n",
            "Validation loss decreased (1.490604 --> 1.489263).  Saving model ...\n",
            "Epoch: 30 \tTraining Loss: 1.486728 \tValidation Loss: 1.488038\n",
            "Validation loss decreased (1.489263 --> 1.488038).  Saving model ...\n",
            "Epoch: 31 \tTraining Loss: 1.485958 \tValidation Loss: 1.487488\n",
            "Validation loss decreased (1.488038 --> 1.487488).  Saving model ...\n",
            "Epoch: 32 \tTraining Loss: 1.485237 \tValidation Loss: 1.486905\n",
            "Validation loss decreased (1.487488 --> 1.486905).  Saving model ...\n",
            "Epoch: 33 \tTraining Loss: 1.484495 \tValidation Loss: 1.486666\n",
            "Validation loss decreased (1.486905 --> 1.486666).  Saving model ...\n",
            "Epoch: 34 \tTraining Loss: 1.483838 \tValidation Loss: 1.485787\n",
            "Validation loss decreased (1.486666 --> 1.485787).  Saving model ...\n",
            "Epoch: 35 \tTraining Loss: 1.483274 \tValidation Loss: 1.485637\n",
            "Validation loss decreased (1.485787 --> 1.485637).  Saving model ...\n",
            "Epoch: 36 \tTraining Loss: 1.482690 \tValidation Loss: 1.484685\n",
            "Validation loss decreased (1.485637 --> 1.484685).  Saving model ...\n",
            "Epoch: 37 \tTraining Loss: 1.482182 \tValidation Loss: 1.484329\n",
            "Validation loss decreased (1.484685 --> 1.484329).  Saving model ...\n",
            "Epoch: 38 \tTraining Loss: 1.481720 \tValidation Loss: 1.483758\n",
            "Validation loss decreased (1.484329 --> 1.483758).  Saving model ...\n",
            "Epoch: 39 \tTraining Loss: 1.481211 \tValidation Loss: 1.483678\n",
            "Validation loss decreased (1.483758 --> 1.483678).  Saving model ...\n",
            "Epoch: 40 \tTraining Loss: 1.480738 \tValidation Loss: 1.482894\n",
            "Validation loss decreased (1.483678 --> 1.482894).  Saving model ...\n"
          ],
          "name": "stdout"
        }
      ]
    },
    {
      "cell_type": "markdown",
      "metadata": {
        "id": "LsYotXAkrqLm",
        "colab_type": "text"
      },
      "source": [
        "# Testing\n",
        "\n",
        "Going through the testing dataset to get the accuracy of the model."
      ]
    },
    {
      "cell_type": "code",
      "metadata": {
        "id": "xb0m0-sTrO98",
        "colab_type": "code",
        "colab": {
          "base_uri": "https://localhost:8080/",
          "height": 255
        },
        "outputId": "0ab19b7c-0659-4dc9-c25a-c93d0233c559"
      },
      "source": [
        "# initialize lists to monitor test loss and accuracy\n",
        "test_loss = 0.0\n",
        "class_correct = list(0. for i in range(10))\n",
        "class_total = list(0. for i in range(10))\n",
        "\n",
        "model.eval()  # prep model for *evaluation*\n",
        "\n",
        "for data, target in test_loader:\n",
        "    # forward pass: compute predicted outputs by passing inputs to the model\n",
        "    output = model(data)\n",
        "    # calculate the loss\n",
        "    loss = criterion(output, target)\n",
        "    # update test loss\n",
        "    test_loss += loss.item() * data.size(0)\n",
        "    # convert output probabilities to predicted class\n",
        "    _, pred = torch.max(output, 1)\n",
        "    # compare predictions to true label\n",
        "    correct = np.squeeze(pred.eq(target.data.view_as(pred)))\n",
        "    # calculate test accuracy for each object class\n",
        "    for i in range(batch_size):\n",
        "        label = target.data[i]\n",
        "        class_correct[label] += correct[i].item()\n",
        "        class_total[label] += 1\n",
        "\n",
        "# calculate and print avg test loss\n",
        "test_loss = test_loss / len(test_loader.dataset)\n",
        "print('Test Loss: {:.6f}\\n'.format(test_loss))\n",
        "\n",
        "for i in range(10):\n",
        "    if class_total[i] > 0:\n",
        "        print('Test Accuracy of %5s: %2d%% (%2d/%2d)' %\n",
        "              (str(i), 100 * class_correct[i] / class_total[i],\n",
        "               np.sum(class_correct[i]), np.sum(class_total[i])))\n",
        "    else:\n",
        "        print('Test Accuracy of %5s: N/A (no training examples)' %\n",
        "              (classes[i]))\n",
        "\n",
        "print('\\nTest Accuracy (Overall): %2d%% (%2d/%2d)' %\n",
        "      (100. * np.sum(class_correct) / np.sum(class_total),\n",
        "       np.sum(class_correct), np.sum(class_total)))\n"
      ],
      "execution_count": 8,
      "outputs": [
        {
          "output_type": "stream",
          "text": [
            "Test Loss: 1.482806\n",
            "\n",
            "Test Accuracy of     0: 98% (970/980)\n",
            "Test Accuracy of     1: 99% (1124/1135)\n",
            "Test Accuracy of     2: 98% (1016/1032)\n",
            "Test Accuracy of     3: 98% (996/1010)\n",
            "Test Accuracy of     4: 98% (963/982)\n",
            "Test Accuracy of     5: 97% (871/892)\n",
            "Test Accuracy of     6: 98% (940/958)\n",
            "Test Accuracy of     7: 98% (1008/1028)\n",
            "Test Accuracy of     8: 97% (954/974)\n",
            "Test Accuracy of     9: 95% (968/1009)\n",
            "\n",
            "Test Accuracy (Overall): 98% (9810/10000)\n"
          ],
          "name": "stdout"
        }
      ]
    },
    {
      "cell_type": "markdown",
      "metadata": {
        "id": "85TJK1qYrq1Y",
        "colab_type": "text"
      },
      "source": [
        "# Quantization\n",
        "\n",
        "We deliver a visual representation to the feature maps generated from the learnt weights."
      ]
    },
    {
      "cell_type": "code",
      "metadata": {
        "id": "fLTM12heroDx",
        "colab_type": "code",
        "colab": {
          "base_uri": "https://localhost:8080/",
          "height": 323
        },
        "outputId": "76429032-5b78-4370-ec9c-7ad47704710b"
      },
      "source": [
        "import matplotlib.pyplot as plt\n",
        "%matplotlib inline\n",
        "\n",
        "input_img = next(iter(test_loader))[0][0].unsqueeze(0)\n",
        "\n",
        "def quantize_arr(arr):\n",
        "    ''' Quantization based on linear rescaling over min/max range.'''\n",
        "    min_val, max_val = np.min(arr), np.max(arr)\n",
        "\n",
        "    if max_val - min_val > 0:\n",
        "        quantized = np.round(255 * (arr - min_val) / (max_val - min_val))\n",
        "    else:\n",
        "        quantized = np.zeros(arr.shape)\n",
        "\n",
        "    quantized = quantized.astype(np.uint8)\n",
        "    min_val = min_val.astype(np.float32)\n",
        "    max_val = max_val.astype(np.float32)\n",
        "\n",
        "    return quantized, min_val, max_val\n",
        "  \n",
        "plt.figure(figsize=(10, 5))\n",
        "row = 2\n",
        "columns = 3\n",
        "for i in range(6):\n",
        "    output, min_val, max_val = quantize_arr(\n",
        "        model.conv1.forward(input_img)[0][i].detach().numpy())\n",
        "    plt.subplot(3 / columns + 1, columns, i + 1)\n",
        "    plt.imshow(output)\n",
        "    \n"
      ],
      "execution_count": 42,
      "outputs": [
        {
          "output_type": "display_data",
          "data": {
            "image/png": "[encoded data removed]",
            "text/plain": [
              "<Figure size 720x360 with 6 Axes>"
            ]
          },
          "metadata": {
            "tags": []
          }
        }
      ]
    }
  ]
}